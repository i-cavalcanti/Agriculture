{
 "cells": [
  {
   "cell_type": "code",
   "execution_count": 1,
   "id": "9b49df11-e3c3-4498-ae90-8fae678bdb54",
   "metadata": {
    "tags": []
   },
   "outputs": [],
   "source": [
    "import main\n",
    "import geopandas as gpd\n",
    "from utils import mongo_handler\n",
    "from utils import database_utils"
   ]
  },
  {
   "cell_type": "code",
   "execution_count": 2,
   "id": "11ce4737-25f7-4933-96e3-6d217612ba48",
   "metadata": {
    "tags": []
   },
   "outputs": [],
   "source": [
    "mongo_handler = mongo_handler.MongoHandler()"
   ]
  },
  {
   "cell_type": "code",
   "execution_count": 3,
   "id": "722b2eab-4065-4b21-9fc7-d806c9bd0a01",
   "metadata": {
    "tags": []
   },
   "outputs": [],
   "source": [
    "mongo_collection =mongo_handler.get_mongo_collection('atmosphere_data')"
   ]
  },
  {
   "cell_type": "code",
   "execution_count": 2,
   "id": "7f0dd8c6-ee5c-40a3-8c45-54cc5eafec91",
   "metadata": {
    "tags": []
   },
   "outputs": [],
   "source": [
    "geo_comuni = gpd.read_file('C:/Users/i.cavalcanti/Progetti/clustering_copernicus/data/coord_comuni_puglia.shp')"
   ]
  },
  {
   "cell_type": "code",
   "execution_count": 3,
   "id": "5840fa92-2960-490b-8196-b4c1dfe64c05",
   "metadata": {
    "tags": []
   },
   "outputs": [],
   "source": [
    "import_client = database_utils.connect_mongodb(\"10.8.0.89\", 40512, \"ivan.cavalcanti\", \"IVoIDnkA48O8J37R\")"
   ]
  },
  {
   "cell_type": "code",
   "execution_count": 4,
   "id": "9e53c999-428c-4cfa-8afb-eb1dbf02ae70",
   "metadata": {
    "tags": []
   },
   "outputs": [],
   "source": [
    "export_client = MongoClient('mongodb://localhost:27017')['copernicus_similarity_comuni_puglia']['frequency']"
   ]
  },
  {
   "cell_type": "code",
   "execution_count": 5,
   "id": "7dd40245-4b42-4ebc-a764-b4ee60fc3e91",
   "metadata": {
    "tags": []
   },
   "outputs": [],
   "source": [
    "year_list = ['2021', '2022']"
   ]
  },
  {
   "cell_type": "code",
   "execution_count": 6,
   "id": "3becb461-e0fe-4167-8538-a3ed01884749",
   "metadata": {
    "tags": []
   },
   "outputs": [
    {
     "ename": "KeyboardInterrupt",
     "evalue": "",
     "output_type": "error",
     "traceback": [
      "\u001b[1;31m---------------------------------------------------------------------------\u001b[0m",
      "\u001b[1;31mKeyboardInterrupt\u001b[0m                         Traceback (most recent call last)",
      "Cell \u001b[1;32mIn[6], line 1\u001b[0m\n\u001b[1;32m----> 1\u001b[0m log \u001b[38;5;241m=\u001b[39m \u001b[43mmain\u001b[49m\u001b[38;5;241;43m.\u001b[39;49m\u001b[43mfrequency_by_quarter_calculator\u001b[49m\u001b[43m(\u001b[49m\u001b[43mimport_client\u001b[49m\u001b[43m,\u001b[49m\u001b[43m \u001b[49m\u001b[43mexport_client\u001b[49m\u001b[43m,\u001b[49m\u001b[43m \u001b[49m\u001b[43mgeo_comuni\u001b[49m\u001b[43m,\u001b[49m\u001b[43m \u001b[49m\u001b[43myear_list\u001b[49m\u001b[43m)\u001b[49m\n",
      "File \u001b[1;32m~\\Progetti_condivisi\\clustering_copernicus\\Clustering\\Kmeans\\main.py:20\u001b[0m, in \u001b[0;36mfrequency_by_quarter_calculator\u001b[1;34m(mongo_client, insert_collection, region_shape, years)\u001b[0m\n\u001b[0;32m     18\u001b[0m n_errors_list \u001b[38;5;241m=\u001b[39m []\n\u001b[0;32m     19\u001b[0m \u001b[38;5;28;01mfor\u001b[39;00m year \u001b[38;5;129;01min\u001b[39;00m years:\n\u001b[1;32m---> 20\u001b[0m     shape_table, collections_features \u001b[38;5;241m=\u001b[39m \u001b[43mexecute\u001b[49m\u001b[38;5;241;43m.\u001b[39;49m\u001b[43mcreate_tables\u001b[49m\u001b[43m(\u001b[49m\u001b[43mmongo_client\u001b[49m\u001b[43m,\u001b[49m\u001b[43m \u001b[49m\u001b[43mimport_database\u001b[49m\u001b[43m,\u001b[49m\u001b[43m \u001b[49m\u001b[43mcollections\u001b[49m\u001b[43m,\u001b[49m\u001b[43m \u001b[49m\u001b[43myear\u001b[49m\u001b[43m,\u001b[49m\u001b[43m \u001b[49m\n\u001b[0;32m     21\u001b[0m \u001b[43m                                                              \u001b[49m\u001b[43mregion_shape\u001b[49m\u001b[43m)\u001b[49m\n\u001b[0;32m     22\u001b[0m     insert_success_list \u001b[38;5;241m=\u001b[39m execute\u001b[38;5;241m.\u001b[39mfrequency_year(shape_table, collections_features, quarter, year, insert_collection)\n\u001b[0;32m     23\u001b[0m     n_errors_list\u001b[38;5;241m.\u001b[39mappend(insert_success_list)\n",
      "File \u001b[1;32m~\\Progetti_condivisi\\clustering_copernicus\\Clustering\\Kmeans\\execute.py:44\u001b[0m, in \u001b[0;36mcreate_tables\u001b[1;34m(mongo_client, database, collections, year, region_shape)\u001b[0m\n\u001b[0;32m     42\u001b[0m table_list \u001b[38;5;241m=\u001b[39m []\n\u001b[0;32m     43\u001b[0m \u001b[38;5;28;01mfor\u001b[39;00m collection, query_aggregate \u001b[38;5;129;01min\u001b[39;00m collections\u001b[38;5;241m.\u001b[39mitems():\n\u001b[1;32m---> 44\u001b[0m     features, geo_table \u001b[38;5;241m=\u001b[39m \u001b[43mimport_table\u001b[49m\u001b[43m(\u001b[49m\u001b[43mmongo_client\u001b[49m\u001b[43m,\u001b[49m\u001b[43m \u001b[49m\u001b[43mdatabase\u001b[49m\u001b[43m,\u001b[49m\u001b[43m \u001b[49m\u001b[43mcollection\u001b[49m\u001b[43m,\u001b[49m\u001b[43m \u001b[49m\u001b[43mquery_aggregate\u001b[49m\u001b[43m,\u001b[49m\u001b[43m \u001b[49m\u001b[43myear\u001b[49m\u001b[43m)\u001b[49m\n\u001b[0;32m     45\u001b[0m     collections_features[collection] \u001b[38;5;241m=\u001b[39m features\n\u001b[0;32m     46\u001b[0m     table \u001b[38;5;241m=\u001b[39m geo_utils\u001b[38;5;241m.\u001b[39mset_coord(geo_table, region_shape)\n",
      "File \u001b[1;32m~\\Progetti_condivisi\\clustering_copernicus\\Clustering\\Kmeans\\execute.py:26\u001b[0m, in \u001b[0;36mimport_table\u001b[1;34m(mongo_client, database, collection, query_aggregate, year)\u001b[0m\n\u001b[0;32m     24\u001b[0m     features \u001b[38;5;241m=\u001b[39m arr_table\u001b[38;5;241m.\u001b[39miloc[:, \u001b[38;5;241m4\u001b[39m:]\u001b[38;5;241m.\u001b[39mcolumns\u001b[38;5;241m.\u001b[39mto_list()\n\u001b[0;32m     25\u001b[0m \u001b[38;5;28;01melse\u001b[39;00m:\n\u001b[1;32m---> 26\u001b[0m     table \u001b[38;5;241m=\u001b[39m \u001b[43mdatabase_utils\u001b[49m\u001b[38;5;241;43m.\u001b[39;49m\u001b[43mquery_db_find\u001b[49m\u001b[43m(\u001b[49m\u001b[43mimported\u001b[49m\u001b[43m,\u001b[49m\u001b[43m \u001b[49m\u001b[43myear\u001b[49m\u001b[43m)\u001b[49m\n\u001b[0;32m     27\u001b[0m     arr_table \u001b[38;5;241m=\u001b[39m database_utils\u001b[38;5;241m.\u001b[39mday_average(table)\n\u001b[0;32m     28\u001b[0m     features \u001b[38;5;241m=\u001b[39m arr_table\u001b[38;5;241m.\u001b[39miloc[:, \u001b[38;5;241m3\u001b[39m:]\u001b[38;5;241m.\u001b[39mcolumns\u001b[38;5;241m.\u001b[39mto_list()\n",
      "File \u001b[1;32m~\\Progetti_condivisi\\clustering_copernicus\\Clustering\\Kmeans\\utils\\database_utils.py:72\u001b[0m, in \u001b[0;36mquery_db_find\u001b[1;34m(collection, year)\u001b[0m\n\u001b[0;32m     70\u001b[0m \u001b[38;5;28;01mtry\u001b[39;00m:\n\u001b[0;32m     71\u001b[0m     month \u001b[38;5;241m=\u001b[39m collection\u001b[38;5;241m.\u001b[39mfind({\u001b[38;5;124m\"\u001b[39m\u001b[38;5;124mdata\u001b[39m\u001b[38;5;124m\"\u001b[39m: {\u001b[38;5;124m\"\u001b[39m\u001b[38;5;124m$regex\u001b[39m\u001b[38;5;124m\"\u001b[39m: \u001b[38;5;124mf\u001b[39m\u001b[38;5;124m\"\u001b[39m\u001b[38;5;124m.*\u001b[39m\u001b[38;5;132;01m{\u001b[39;00myear\u001b[38;5;132;01m}\u001b[39;00m\u001b[38;5;124m-\u001b[39m\u001b[38;5;132;01m{\u001b[39;00mmonth\u001b[38;5;132;01m}\u001b[39;00m\u001b[38;5;124m.*\u001b[39m\u001b[38;5;124m\"\u001b[39m}})\n\u001b[1;32m---> 72\u001b[0m     df_month \u001b[38;5;241m=\u001b[39m pd\u001b[38;5;241m.\u001b[39mDataFrame(\u001b[38;5;28;43mlist\u001b[39;49m\u001b[43m(\u001b[49m\u001b[43mmonth\u001b[49m\u001b[43m)\u001b[49m)\n\u001b[0;32m     73\u001b[0m     df_month_list\u001b[38;5;241m.\u001b[39mappend(df_month)\n\u001b[0;32m     74\u001b[0m \u001b[38;5;28;01mexcept\u001b[39;00m \u001b[38;5;167;01mException\u001b[39;00m \u001b[38;5;28;01mas\u001b[39;00m e:\n",
      "File \u001b[1;32m~\\.virtualenvs\\clustering_copernicus-Ask4ZRwl\\lib\\site-packages\\pymongo\\cursor.py:1248\u001b[0m, in \u001b[0;36mCursor.next\u001b[1;34m(self)\u001b[0m\n\u001b[0;32m   1246\u001b[0m \u001b[38;5;28;01mif\u001b[39;00m \u001b[38;5;28mself\u001b[39m\u001b[38;5;241m.\u001b[39m__empty:\n\u001b[0;32m   1247\u001b[0m     \u001b[38;5;28;01mraise\u001b[39;00m \u001b[38;5;167;01mStopIteration\u001b[39;00m\n\u001b[1;32m-> 1248\u001b[0m \u001b[38;5;28;01mif\u001b[39;00m \u001b[38;5;28mlen\u001b[39m(\u001b[38;5;28mself\u001b[39m\u001b[38;5;241m.\u001b[39m__data) \u001b[38;5;129;01mor\u001b[39;00m \u001b[38;5;28;43mself\u001b[39;49m\u001b[38;5;241;43m.\u001b[39;49m\u001b[43m_refresh\u001b[49m\u001b[43m(\u001b[49m\u001b[43m)\u001b[49m:\n\u001b[0;32m   1249\u001b[0m     \u001b[38;5;28;01mreturn\u001b[39;00m \u001b[38;5;28mself\u001b[39m\u001b[38;5;241m.\u001b[39m__data\u001b[38;5;241m.\u001b[39mpopleft()\n\u001b[0;32m   1250\u001b[0m \u001b[38;5;28;01melse\u001b[39;00m:\n",
      "File \u001b[1;32m~\\.virtualenvs\\clustering_copernicus-Ask4ZRwl\\lib\\site-packages\\pymongo\\cursor.py:1188\u001b[0m, in \u001b[0;36mCursor._refresh\u001b[1;34m(self)\u001b[0m\n\u001b[0;32m   1173\u001b[0m     \u001b[38;5;66;03m# Exhaust cursors don't send getMore messages.\u001b[39;00m\n\u001b[0;32m   1174\u001b[0m     g \u001b[38;5;241m=\u001b[39m \u001b[38;5;28mself\u001b[39m\u001b[38;5;241m.\u001b[39m_getmore_class(\n\u001b[0;32m   1175\u001b[0m         \u001b[38;5;28mself\u001b[39m\u001b[38;5;241m.\u001b[39m__dbname,\n\u001b[0;32m   1176\u001b[0m         \u001b[38;5;28mself\u001b[39m\u001b[38;5;241m.\u001b[39m__collname,\n\u001b[1;32m   (...)\u001b[0m\n\u001b[0;32m   1186\u001b[0m         \u001b[38;5;28mself\u001b[39m\u001b[38;5;241m.\u001b[39m__comment,\n\u001b[0;32m   1187\u001b[0m     )\n\u001b[1;32m-> 1188\u001b[0m     \u001b[38;5;28;43mself\u001b[39;49m\u001b[38;5;241;43m.\u001b[39;49m\u001b[43m__send_message\u001b[49m\u001b[43m(\u001b[49m\u001b[43mg\u001b[49m\u001b[43m)\u001b[49m\n\u001b[0;32m   1190\u001b[0m \u001b[38;5;28;01mreturn\u001b[39;00m \u001b[38;5;28mlen\u001b[39m(\u001b[38;5;28mself\u001b[39m\u001b[38;5;241m.\u001b[39m__data)\n",
      "File \u001b[1;32m~\\.virtualenvs\\clustering_copernicus-Ask4ZRwl\\lib\\site-packages\\pymongo\\cursor.py:1052\u001b[0m, in \u001b[0;36mCursor.__send_message\u001b[1;34m(self, operation)\u001b[0m\n\u001b[0;32m   1049\u001b[0m     \u001b[38;5;28;01mraise\u001b[39;00m InvalidOperation(\u001b[38;5;124m\"\u001b[39m\u001b[38;5;124mexhaust cursors do not support auto encryption\u001b[39m\u001b[38;5;124m\"\u001b[39m)\n\u001b[0;32m   1051\u001b[0m \u001b[38;5;28;01mtry\u001b[39;00m:\n\u001b[1;32m-> 1052\u001b[0m     response \u001b[38;5;241m=\u001b[39m \u001b[43mclient\u001b[49m\u001b[38;5;241;43m.\u001b[39;49m\u001b[43m_run_operation\u001b[49m\u001b[43m(\u001b[49m\n\u001b[0;32m   1053\u001b[0m \u001b[43m        \u001b[49m\u001b[43moperation\u001b[49m\u001b[43m,\u001b[49m\u001b[43m \u001b[49m\u001b[38;5;28;43mself\u001b[39;49m\u001b[38;5;241;43m.\u001b[39;49m\u001b[43m_unpack_response\u001b[49m\u001b[43m,\u001b[49m\u001b[43m \u001b[49m\u001b[43maddress\u001b[49m\u001b[38;5;241;43m=\u001b[39;49m\u001b[38;5;28;43mself\u001b[39;49m\u001b[38;5;241;43m.\u001b[39;49m\u001b[43m__address\u001b[49m\n\u001b[0;32m   1054\u001b[0m \u001b[43m    \u001b[49m\u001b[43m)\u001b[49m\n\u001b[0;32m   1055\u001b[0m \u001b[38;5;28;01mexcept\u001b[39;00m OperationFailure \u001b[38;5;28;01mas\u001b[39;00m exc:\n\u001b[0;32m   1056\u001b[0m     \u001b[38;5;28;01mif\u001b[39;00m exc\u001b[38;5;241m.\u001b[39mcode \u001b[38;5;129;01min\u001b[39;00m _CURSOR_CLOSED_ERRORS \u001b[38;5;129;01mor\u001b[39;00m \u001b[38;5;28mself\u001b[39m\u001b[38;5;241m.\u001b[39m__exhaust:\n\u001b[0;32m   1057\u001b[0m         \u001b[38;5;66;03m# Don't send killCursors because the cursor is already closed.\u001b[39;00m\n",
      "File \u001b[1;32m~\\.virtualenvs\\clustering_copernicus-Ask4ZRwl\\lib\\site-packages\\pymongo\\_csot.py:105\u001b[0m, in \u001b[0;36mapply.<locals>.csot_wrapper\u001b[1;34m(self, *args, **kwargs)\u001b[0m\n\u001b[0;32m    103\u001b[0m         \u001b[38;5;28;01mwith\u001b[39;00m _TimeoutContext(timeout):\n\u001b[0;32m    104\u001b[0m             \u001b[38;5;28;01mreturn\u001b[39;00m func(\u001b[38;5;28mself\u001b[39m, \u001b[38;5;241m*\u001b[39margs, \u001b[38;5;241m*\u001b[39m\u001b[38;5;241m*\u001b[39mkwargs)\n\u001b[1;32m--> 105\u001b[0m \u001b[38;5;28;01mreturn\u001b[39;00m func(\u001b[38;5;28mself\u001b[39m, \u001b[38;5;241m*\u001b[39margs, \u001b[38;5;241m*\u001b[39m\u001b[38;5;241m*\u001b[39mkwargs)\n",
      "File \u001b[1;32m~\\.virtualenvs\\clustering_copernicus-Ask4ZRwl\\lib\\site-packages\\pymongo\\mongo_client.py:1330\u001b[0m, in \u001b[0;36mMongoClient._run_operation\u001b[1;34m(self, operation, unpack_res, address)\u001b[0m\n\u001b[0;32m   1325\u001b[0m     operation\u001b[38;5;241m.\u001b[39mreset()  \u001b[38;5;66;03m# Reset op in case of retry.\u001b[39;00m\n\u001b[0;32m   1326\u001b[0m     \u001b[38;5;28;01mreturn\u001b[39;00m server\u001b[38;5;241m.\u001b[39mrun_operation(\n\u001b[0;32m   1327\u001b[0m         sock_info, operation, read_preference, \u001b[38;5;28mself\u001b[39m\u001b[38;5;241m.\u001b[39m_event_listeners, unpack_res\n\u001b[0;32m   1328\u001b[0m     )\n\u001b[1;32m-> 1330\u001b[0m \u001b[38;5;28;01mreturn\u001b[39;00m \u001b[38;5;28;43mself\u001b[39;49m\u001b[38;5;241;43m.\u001b[39;49m\u001b[43m_retryable_read\u001b[49m\u001b[43m(\u001b[49m\n\u001b[0;32m   1331\u001b[0m \u001b[43m    \u001b[49m\u001b[43m_cmd\u001b[49m\u001b[43m,\u001b[49m\n\u001b[0;32m   1332\u001b[0m \u001b[43m    \u001b[49m\u001b[43moperation\u001b[49m\u001b[38;5;241;43m.\u001b[39;49m\u001b[43mread_preference\u001b[49m\u001b[43m,\u001b[49m\n\u001b[0;32m   1333\u001b[0m \u001b[43m    \u001b[49m\u001b[43moperation\u001b[49m\u001b[38;5;241;43m.\u001b[39;49m\u001b[43msession\u001b[49m\u001b[43m,\u001b[49m\n\u001b[0;32m   1334\u001b[0m \u001b[43m    \u001b[49m\u001b[43maddress\u001b[49m\u001b[38;5;241;43m=\u001b[39;49m\u001b[43maddress\u001b[49m\u001b[43m,\u001b[49m\n\u001b[0;32m   1335\u001b[0m \u001b[43m    \u001b[49m\u001b[43mretryable\u001b[49m\u001b[38;5;241;43m=\u001b[39;49m\u001b[38;5;28;43misinstance\u001b[39;49m\u001b[43m(\u001b[49m\u001b[43moperation\u001b[49m\u001b[43m,\u001b[49m\u001b[43m \u001b[49m\u001b[43mmessage\u001b[49m\u001b[38;5;241;43m.\u001b[39;49m\u001b[43m_Query\u001b[49m\u001b[43m)\u001b[49m\u001b[43m,\u001b[49m\n\u001b[0;32m   1336\u001b[0m \u001b[43m\u001b[49m\u001b[43m)\u001b[49m\n",
      "File \u001b[1;32m~\\.virtualenvs\\clustering_copernicus-Ask4ZRwl\\lib\\site-packages\\pymongo\\_csot.py:105\u001b[0m, in \u001b[0;36mapply.<locals>.csot_wrapper\u001b[1;34m(self, *args, **kwargs)\u001b[0m\n\u001b[0;32m    103\u001b[0m         \u001b[38;5;28;01mwith\u001b[39;00m _TimeoutContext(timeout):\n\u001b[0;32m    104\u001b[0m             \u001b[38;5;28;01mreturn\u001b[39;00m func(\u001b[38;5;28mself\u001b[39m, \u001b[38;5;241m*\u001b[39margs, \u001b[38;5;241m*\u001b[39m\u001b[38;5;241m*\u001b[39mkwargs)\n\u001b[1;32m--> 105\u001b[0m \u001b[38;5;28;01mreturn\u001b[39;00m func(\u001b[38;5;28mself\u001b[39m, \u001b[38;5;241m*\u001b[39margs, \u001b[38;5;241m*\u001b[39m\u001b[38;5;241m*\u001b[39mkwargs)\n",
      "File \u001b[1;32m~\\.virtualenvs\\clustering_copernicus-Ask4ZRwl\\lib\\site-packages\\pymongo\\mongo_client.py:1448\u001b[0m, in \u001b[0;36mMongoClient._retryable_read\u001b[1;34m(self, func, read_pref, session, address, retryable)\u001b[0m\n\u001b[0;32m   1446\u001b[0m             \u001b[38;5;28;01massert\u001b[39;00m last_error \u001b[38;5;129;01mis\u001b[39;00m \u001b[38;5;129;01mnot\u001b[39;00m \u001b[38;5;28;01mNone\u001b[39;00m\n\u001b[0;32m   1447\u001b[0m             \u001b[38;5;28;01mraise\u001b[39;00m last_error\n\u001b[1;32m-> 1448\u001b[0m         \u001b[38;5;28;01mreturn\u001b[39;00m \u001b[43mfunc\u001b[49m\u001b[43m(\u001b[49m\u001b[43msession\u001b[49m\u001b[43m,\u001b[49m\u001b[43m \u001b[49m\u001b[43mserver\u001b[49m\u001b[43m,\u001b[49m\u001b[43m \u001b[49m\u001b[43msock_info\u001b[49m\u001b[43m,\u001b[49m\u001b[43m \u001b[49m\u001b[43mread_pref\u001b[49m\u001b[43m)\u001b[49m\n\u001b[0;32m   1449\u001b[0m \u001b[38;5;28;01mexcept\u001b[39;00m ServerSelectionTimeoutError:\n\u001b[0;32m   1450\u001b[0m     \u001b[38;5;28;01mif\u001b[39;00m retrying:\n\u001b[0;32m   1451\u001b[0m         \u001b[38;5;66;03m# The application may think the write was never attempted\u001b[39;00m\n\u001b[0;32m   1452\u001b[0m         \u001b[38;5;66;03m# if we raise ServerSelectionTimeoutError on the retry\u001b[39;00m\n\u001b[0;32m   1453\u001b[0m         \u001b[38;5;66;03m# attempt. Raise the original exception instead.\u001b[39;00m\n",
      "File \u001b[1;32m~\\.virtualenvs\\clustering_copernicus-Ask4ZRwl\\lib\\site-packages\\pymongo\\mongo_client.py:1326\u001b[0m, in \u001b[0;36mMongoClient._run_operation.<locals>._cmd\u001b[1;34m(session, server, sock_info, read_preference)\u001b[0m\n\u001b[0;32m   1324\u001b[0m \u001b[38;5;28;01mdef\u001b[39;00m \u001b[38;5;21m_cmd\u001b[39m(session, server, sock_info, read_preference):\n\u001b[0;32m   1325\u001b[0m     operation\u001b[38;5;241m.\u001b[39mreset()  \u001b[38;5;66;03m# Reset op in case of retry.\u001b[39;00m\n\u001b[1;32m-> 1326\u001b[0m     \u001b[38;5;28;01mreturn\u001b[39;00m \u001b[43mserver\u001b[49m\u001b[38;5;241;43m.\u001b[39;49m\u001b[43mrun_operation\u001b[49m\u001b[43m(\u001b[49m\n\u001b[0;32m   1327\u001b[0m \u001b[43m        \u001b[49m\u001b[43msock_info\u001b[49m\u001b[43m,\u001b[49m\u001b[43m \u001b[49m\u001b[43moperation\u001b[49m\u001b[43m,\u001b[49m\u001b[43m \u001b[49m\u001b[43mread_preference\u001b[49m\u001b[43m,\u001b[49m\u001b[43m \u001b[49m\u001b[38;5;28;43mself\u001b[39;49m\u001b[38;5;241;43m.\u001b[39;49m\u001b[43m_event_listeners\u001b[49m\u001b[43m,\u001b[49m\u001b[43m \u001b[49m\u001b[43munpack_res\u001b[49m\n\u001b[0;32m   1328\u001b[0m \u001b[43m    \u001b[49m\u001b[43m)\u001b[49m\n",
      "File \u001b[1;32m~\\.virtualenvs\\clustering_copernicus-Ask4ZRwl\\lib\\site-packages\\pymongo\\server.py:115\u001b[0m, in \u001b[0;36mServer.run_operation\u001b[1;34m(self, sock_info, operation, read_preference, listeners, unpack_res)\u001b[0m\n\u001b[0;32m    113\u001b[0m \u001b[38;5;28;01melse\u001b[39;00m:\n\u001b[0;32m    114\u001b[0m     sock_info\u001b[38;5;241m.\u001b[39msend_message(data, max_doc_size)\n\u001b[1;32m--> 115\u001b[0m     reply \u001b[38;5;241m=\u001b[39m \u001b[43msock_info\u001b[49m\u001b[38;5;241;43m.\u001b[39;49m\u001b[43mreceive_message\u001b[49m\u001b[43m(\u001b[49m\u001b[43mrequest_id\u001b[49m\u001b[43m)\u001b[49m\n\u001b[0;32m    117\u001b[0m \u001b[38;5;66;03m# Unpack and check for command errors.\u001b[39;00m\n\u001b[0;32m    118\u001b[0m \u001b[38;5;28;01mif\u001b[39;00m use_cmd:\n",
      "File \u001b[1;32m~\\.virtualenvs\\clustering_copernicus-Ask4ZRwl\\lib\\site-packages\\pymongo\\pool.py:821\u001b[0m, in \u001b[0;36mSocketInfo.receive_message\u001b[1;34m(self, request_id)\u001b[0m\n\u001b[0;32m    819\u001b[0m     \u001b[38;5;28;01mreturn\u001b[39;00m receive_message(\u001b[38;5;28mself\u001b[39m, request_id, \u001b[38;5;28mself\u001b[39m\u001b[38;5;241m.\u001b[39mmax_message_size)\n\u001b[0;32m    820\u001b[0m \u001b[38;5;28;01mexcept\u001b[39;00m \u001b[38;5;167;01mBaseException\u001b[39;00m \u001b[38;5;28;01mas\u001b[39;00m error:\n\u001b[1;32m--> 821\u001b[0m     \u001b[38;5;28;43mself\u001b[39;49m\u001b[38;5;241;43m.\u001b[39;49m\u001b[43m_raise_connection_failure\u001b[49m\u001b[43m(\u001b[49m\u001b[43merror\u001b[49m\u001b[43m)\u001b[49m\n",
      "File \u001b[1;32m~\\.virtualenvs\\clustering_copernicus-Ask4ZRwl\\lib\\site-packages\\pymongo\\pool.py:819\u001b[0m, in \u001b[0;36mSocketInfo.receive_message\u001b[1;34m(self, request_id)\u001b[0m\n\u001b[0;32m    814\u001b[0m \u001b[38;5;250m\u001b[39m\u001b[38;5;124;03m\"\"\"Receive a raw BSON message or raise ConnectionFailure.\u001b[39;00m\n\u001b[0;32m    815\u001b[0m \n\u001b[0;32m    816\u001b[0m \u001b[38;5;124;03mIf any exception is raised, the socket is closed.\u001b[39;00m\n\u001b[0;32m    817\u001b[0m \u001b[38;5;124;03m\"\"\"\u001b[39;00m\n\u001b[0;32m    818\u001b[0m \u001b[38;5;28;01mtry\u001b[39;00m:\n\u001b[1;32m--> 819\u001b[0m     \u001b[38;5;28;01mreturn\u001b[39;00m \u001b[43mreceive_message\u001b[49m\u001b[43m(\u001b[49m\u001b[38;5;28;43mself\u001b[39;49m\u001b[43m,\u001b[49m\u001b[43m \u001b[49m\u001b[43mrequest_id\u001b[49m\u001b[43m,\u001b[49m\u001b[43m \u001b[49m\u001b[38;5;28;43mself\u001b[39;49m\u001b[38;5;241;43m.\u001b[39;49m\u001b[43mmax_message_size\u001b[49m\u001b[43m)\u001b[49m\n\u001b[0;32m    820\u001b[0m \u001b[38;5;28;01mexcept\u001b[39;00m \u001b[38;5;167;01mBaseException\u001b[39;00m \u001b[38;5;28;01mas\u001b[39;00m error:\n\u001b[0;32m    821\u001b[0m     \u001b[38;5;28mself\u001b[39m\u001b[38;5;241m.\u001b[39m_raise_connection_failure(error)\n",
      "File \u001b[1;32m~\\.virtualenvs\\clustering_copernicus-Ask4ZRwl\\lib\\site-packages\\pymongo\\network.py:238\u001b[0m, in \u001b[0;36mreceive_message\u001b[1;34m(sock_info, request_id, max_message_size)\u001b[0m\n\u001b[0;32m    236\u001b[0m     data \u001b[38;5;241m=\u001b[39m decompress(_receive_data_on_socket(sock_info, length \u001b[38;5;241m-\u001b[39m \u001b[38;5;241m25\u001b[39m, deadline), compressor_id)\n\u001b[0;32m    237\u001b[0m \u001b[38;5;28;01melse\u001b[39;00m:\n\u001b[1;32m--> 238\u001b[0m     data \u001b[38;5;241m=\u001b[39m \u001b[43m_receive_data_on_socket\u001b[49m\u001b[43m(\u001b[49m\u001b[43msock_info\u001b[49m\u001b[43m,\u001b[49m\u001b[43m \u001b[49m\u001b[43mlength\u001b[49m\u001b[43m \u001b[49m\u001b[38;5;241;43m-\u001b[39;49m\u001b[43m \u001b[49m\u001b[38;5;241;43m16\u001b[39;49m\u001b[43m,\u001b[49m\u001b[43m \u001b[49m\u001b[43mdeadline\u001b[49m\u001b[43m)\u001b[49m\n\u001b[0;32m    240\u001b[0m \u001b[38;5;28;01mtry\u001b[39;00m:\n\u001b[0;32m    241\u001b[0m     unpack_reply \u001b[38;5;241m=\u001b[39m _UNPACK_REPLY[op_code]\n",
      "File \u001b[1;32m~\\.virtualenvs\\clustering_copernicus-Ask4ZRwl\\lib\\site-packages\\pymongo\\network.py:299\u001b[0m, in \u001b[0;36m_receive_data_on_socket\u001b[1;34m(sock_info, length, deadline)\u001b[0m\n\u001b[0;32m    297\u001b[0m     \u001b[38;5;28;01mif\u001b[39;00m _csot\u001b[38;5;241m.\u001b[39mget_timeout():\n\u001b[0;32m    298\u001b[0m         sock_info\u001b[38;5;241m.\u001b[39mset_socket_timeout(\u001b[38;5;28mmax\u001b[39m(deadline \u001b[38;5;241m-\u001b[39m time\u001b[38;5;241m.\u001b[39mmonotonic(), \u001b[38;5;241m0\u001b[39m))\n\u001b[1;32m--> 299\u001b[0m     chunk_length \u001b[38;5;241m=\u001b[39m \u001b[43msock_info\u001b[49m\u001b[38;5;241;43m.\u001b[39;49m\u001b[43msock\u001b[49m\u001b[38;5;241;43m.\u001b[39;49m\u001b[43mrecv_into\u001b[49m\u001b[43m(\u001b[49m\u001b[43mmv\u001b[49m\u001b[43m[\u001b[49m\u001b[43mbytes_read\u001b[49m\u001b[43m:\u001b[49m\u001b[43m]\u001b[49m\u001b[43m)\u001b[49m\n\u001b[0;32m    300\u001b[0m \u001b[38;5;28;01mexcept\u001b[39;00m BLOCKING_IO_ERRORS:\n\u001b[0;32m    301\u001b[0m     \u001b[38;5;28;01mraise\u001b[39;00m socket\u001b[38;5;241m.\u001b[39mtimeout(\u001b[38;5;124m\"\u001b[39m\u001b[38;5;124mtimed out\u001b[39m\u001b[38;5;124m\"\u001b[39m)\n",
      "\u001b[1;31mKeyboardInterrupt\u001b[0m: "
     ]
    }
   ],
   "source": [
    "log = main.frequency_by_quarter_calculator(import_client, export_client, geo_comuni, year_list)"
   ]
  }
 ],
 "metadata": {
  "kernelspec": {
   "display_name": "Python 3 (ipykernel)",
   "language": "python",
   "name": "python3"
  },
  "language_info": {
   "codemirror_mode": {
    "name": "ipython",
    "version": 3
   },
   "file_extension": ".py",
   "mimetype": "text/x-python",
   "name": "python",
   "nbconvert_exporter": "python",
   "pygments_lexer": "ipython3",
   "version": "3.10.7"
  }
 },
 "nbformat": 4,
 "nbformat_minor": 5
}
